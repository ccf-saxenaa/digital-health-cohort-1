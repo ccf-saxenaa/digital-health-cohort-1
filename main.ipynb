{
 "cells": [
  {
   "cell_type": "markdown",
   "id": "d6d59d1b",
   "metadata": {},
   "source": [
    "## Data analysis using the Framingham Heart Study\n",
    "\n",
    "The gooal of this notebook is to cover basic concepts of loading data from a csv file into a Pandas dataframe and inspecting the data with basic operations. \n",
    "The libraries used here are: \n",
    "- Pandas (https://pandas.pydata.org/)\n",
    "- Requests (https://requests.readthedocs.io/en/latest/)\n",
    "- Matplotlib (https://matplotlib.org/3.5.3/api/_as_gen/matplotlib.pyplot.html)\n",
    "- Seaborn (https://seaborn.pydata.org/)\n",
    "\n",
    "We will also use the Data Wrangler extension from VSCode: https://marketplace.visualstudio.com/items?itemName=ms-toolsai.datawrangler\n",
    "to view the data\n",
    "\n"
   ]
  },
  {
   "cell_type": "markdown",
   "id": "3eb2387a",
   "metadata": {},
   "source": [
    "### Intro to Python\n",
    "Python is a general purpose programming language that was first released in 1991. Its design philosophy focusses on code readability. \n",
    "\n",
    "Today, Python is used across industries and various computing domains. We see Python used for Data Science, Software Development, Internet of Things (IoT), Artificial Intelligence (AI), and Web Development - to name a few. \n",
    "\n",
    "Python is open source, meaning it is made available to everyone for free. The users of Python have the freedom to use it for what they want, edit the source code how they want it, and distribute it for commercial and/or non-commercial purposes. \n",
    "\n",
    "Python language is supported by the Python Software Foundation (PSF) whose mission is to \"promote, protect, and advance the Python programming language, and to support and facilitate the growth of a diverse and international community of Python programmers.\"\n",
    "\n",
    "Links: https://www.python.org/, https://www.python.org/psf-landing/\n",
    "\n"
   ]
  },
  {
   "cell_type": "markdown",
   "id": "e8ce09b4",
   "metadata": {},
   "source": [
    "### What is this notebook?\n",
    "This is a Jupyter Notebook. A Jupyter Notebook is an application that can run in a browser, or in an Interactive Development Environment (IDE) such as VSCode. A Jupyter Notebook can contain both code (as you will see below) or text elements (such as this one). \n",
    "\n",
    "Jupyter notebooks are both human readable, meaning it can contain the code and its documentation, and output, as well as executable, meaning some or all sections of a Jupyter notebook can be executed to perform data analysis. \n",
    "\n",
    "Jupyter notebooks are an easy way for performing iterative analysis where you can run code step by step to get output and perform actions. They are also shareable which allows for reproducibilty and collaboration. \n",
    "\n"
   ]
  },
  {
   "cell_type": "code",
   "execution_count": 68,
   "id": "310f36ec",
   "metadata": {},
   "outputs": [
    {
     "name": "stdout",
     "output_type": "stream",
     "text": [
      "Hello, World!\n"
     ]
    }
   ],
   "source": [
    "# Python basics\n",
    "\n",
    "# Printing \"Hello World\" is a common first step in learning a new programming language.\n",
    "print(\"Hello, World!\")\n"
   ]
  },
  {
   "cell_type": "code",
   "execution_count": 69,
   "id": "c093e243",
   "metadata": {},
   "outputs": [],
   "source": [
    "# Python variables\n",
    "# Variables are used to store data in Python.\n",
    "\n",
    "# Python Data Types\n",
    "# Python has several built-in data types, including integers, floats, strings, and booleans.\n",
    "# Here are some examples:\n",
    "integer_example = 42  # An integer\n",
    "float_example = 3.14  # A float\n",
    "string_example = \"Hello, Python!\"  # A string\n",
    "boolean_example = True  # A boolean\n"
   ]
  },
  {
   "cell_type": "code",
   "execution_count": 70,
   "id": "b44774e4",
   "metadata": {},
   "outputs": [
    {
     "data": {
      "text/plain": [
       "'This is a multi-line comment.\\nIt can span multiple lines.'"
      ]
     },
     "execution_count": 70,
     "metadata": {},
     "output_type": "execute_result"
    }
   ],
   "source": [
    "# Python comments\n",
    "# Comments are used to explain code and are ignored by the Python interpreter.\n",
    "# This is a single-line comment.\n",
    "\"\"\"This is a multi-line comment.\n",
    "It can span multiple lines.\"\"\"\n"
   ]
  },
  {
   "cell_type": "code",
   "execution_count": 71,
   "id": "1db43cbe",
   "metadata": {},
   "outputs": [
    {
     "name": "stdout",
     "output_type": "stream",
     "text": [
      "This is indented code, which is part of the if statement.\n"
     ]
    }
   ],
   "source": [
    "# Indentation in Python\n",
    "# Indentation is used to define blocks of code in Python.\n",
    "if boolean_example:\n",
    "    print(\"This is indented code, which is part of the if statement.\")\n",
    "# This is not indented, so it is not part of the if statement.\n"
   ]
  },
  {
   "cell_type": "code",
   "execution_count": 72,
   "id": "82075d67",
   "metadata": {},
   "outputs": [
    {
     "name": "stdout",
     "output_type": "stream",
     "text": [
      "The integer is positive.\n",
      "Current number: 0\n",
      "Current number: 1\n",
      "Current number: 2\n",
      "Current number: 3\n",
      "Current number: 4\n"
     ]
    }
   ],
   "source": [
    "# Python conditionals and loops\n",
    "# Python supports conditional statements and loops for control flow.\n",
    "# Here are some examples:\n",
    "\n",
    "# Conditional statement\n",
    "if integer_example > 0:\n",
    "    print(\"The integer is positive.\")\n",
    "else:\n",
    "    print(\"The integer is not positive.\")\n",
    "\n",
    "# Looping through a range of numbers\n",
    "for i in range(5):\n",
    "    print(f\"Current number: {i}\")\n"
   ]
  },
  {
   "cell_type": "code",
   "execution_count": 73,
   "id": "ba2cd5b5",
   "metadata": {},
   "outputs": [
    {
     "name": "stdout",
     "output_type": "stream",
     "text": [
      "List items:\n",
      "1\n",
      "2\n",
      "3\n",
      "4\n",
      "5\n"
     ]
    }
   ],
   "source": [
    "# Python lists\n",
    "# Lists are used to store multiple items in a single variable.\n",
    "my_list = [1, 2, 3, 4, 5]\n",
    "print(\"List items:\")\n",
    "for item in my_list:\n",
    "    print(item)\n"
   ]
  },
  {
   "cell_type": "code",
   "execution_count": 74,
   "id": "553b7d06",
   "metadata": {},
   "outputs": [
    {
     "name": "stdout",
     "output_type": "stream",
     "text": [
      "Dictionary items:\n",
      "name: Alice\n",
      "age: 30\n",
      "city: New York\n"
     ]
    }
   ],
   "source": [
    "# Python dictionaries\n",
    "# Dictionaries are used to store key-value pairs.\n",
    "my_dict = {    \"name\": \"Alice\",\n",
    "    \"age\": 30,\n",
    "    \"city\": \"New York\"\n",
    "}\n",
    "print(\"Dictionary items:\")\n",
    "for key, value in my_dict.items():\n",
    "    print(f\"{key}: {value}\")\n"
   ]
  },
  {
   "cell_type": "code",
   "execution_count": 75,
   "id": "d2963c08",
   "metadata": {},
   "outputs": [
    {
     "name": "stdout",
     "output_type": "stream",
     "text": [
      "Square root of 16: 4.0\n",
      "Random number between 1 and 10: 6\n"
     ]
    }
   ],
   "source": [
    "# Python libraries\n",
    "# Python has a rich ecosystem of libraries that can be used for various tasks.\n",
    "# Here are some examples:\n",
    "import math  # Importing the math library for mathematical operations\n",
    "print(f\"Square root of 16: {math.sqrt(16)}\")  # Using the math library to calculate the square root\n",
    "\n",
    "import random  # Importing the random library for generating random numbers\n",
    "print(f\"Random number between 1 and 10: {random.randint(1, 10)}\")  # Using the random library to generate a random number between 1 and 10\n"
   ]
  },
  {
   "cell_type": "markdown",
   "id": "cc88e306",
   "metadata": {},
   "source": [
    "# Python Package Index\n",
    "The Python Package Index (PyPI) is a repository of software for the Python programming language.\n",
    "It contains thousands of third-party packages that can be easily installed and used in Python projects.\n",
    "You can search for packages on the PyPI website (https://pypi.org/)\n",
    "or use the `pip` command-line tool to install packages directly from PyPI."
   ]
  },
  {
   "cell_type": "markdown",
   "id": "3ab0daeb",
   "metadata": {},
   "source": [
    "### Framingham Heart Study\n",
    "\n",
    "The Framingham Heart Study Dataset is a comprehensive collection of patient information from an ongoing cardiovascular study in Framingham, Massachusetts. The dataset aims to predict the 10-year risk of future coronary heart disease (CHD) in patients based on various health attributes. It includes over 4,000 records and 15 attributes, making it a valuable resource for researchers and data scientists working on predictive modeling in healthcare.\n",
    "\n",
    "The data is available on Kaggle: https://www.kaggle.com/datasets/noeyislearning/framingham-heart-study/data"
   ]
  },
  {
   "cell_type": "code",
   "execution_count": 76,
   "id": "f0ae23f0",
   "metadata": {},
   "outputs": [],
   "source": [
    "# Import the libraries\n",
    "import pandas as pd\n",
    "import requests\n"
   ]
  },
  {
   "cell_type": "code",
   "execution_count": 77,
   "id": "ffc955ac",
   "metadata": {},
   "outputs": [
    {
     "data": {
      "application/vnd.microsoft.datawrangler.viewer.v0+json": {
       "columns": [
        {
         "name": "index",
         "rawType": "int64",
         "type": "integer"
        },
        {
         "name": "male",
         "rawType": "int64",
         "type": "integer"
        },
        {
         "name": "age",
         "rawType": "int64",
         "type": "integer"
        },
        {
         "name": "education",
         "rawType": "float64",
         "type": "float"
        },
        {
         "name": "currentSmoker",
         "rawType": "int64",
         "type": "integer"
        },
        {
         "name": "cigsPerDay",
         "rawType": "float64",
         "type": "float"
        },
        {
         "name": "BPMeds",
         "rawType": "float64",
         "type": "float"
        },
        {
         "name": "prevalentStroke",
         "rawType": "int64",
         "type": "integer"
        },
        {
         "name": "prevalentHyp",
         "rawType": "int64",
         "type": "integer"
        },
        {
         "name": "diabetes",
         "rawType": "int64",
         "type": "integer"
        },
        {
         "name": "totChol",
         "rawType": "float64",
         "type": "float"
        },
        {
         "name": "sysBP",
         "rawType": "float64",
         "type": "float"
        },
        {
         "name": "diaBP",
         "rawType": "float64",
         "type": "float"
        },
        {
         "name": "BMI",
         "rawType": "float64",
         "type": "float"
        },
        {
         "name": "heartRate",
         "rawType": "float64",
         "type": "float"
        },
        {
         "name": "glucose",
         "rawType": "float64",
         "type": "float"
        },
        {
         "name": "TenYearCHD",
         "rawType": "int64",
         "type": "integer"
        }
       ],
       "ref": "f8cc1c23-3f94-4262-8006-945643fc3d0e",
       "rows": [
        [
         "0",
         "1",
         "39",
         "4.0",
         "0",
         "0.0",
         "0.0",
         "0",
         "0",
         "0",
         "195.0",
         "106.0",
         "70.0",
         "26.97",
         "80.0",
         "77.0",
         "0"
        ],
        [
         "1",
         "0",
         "46",
         "2.0",
         "0",
         "0.0",
         "0.0",
         "0",
         "0",
         "0",
         "250.0",
         "121.0",
         "81.0",
         "28.73",
         "95.0",
         "76.0",
         "0"
        ],
        [
         "2",
         "1",
         "48",
         "1.0",
         "1",
         "20.0",
         "0.0",
         "0",
         "0",
         "0",
         "245.0",
         "127.5",
         "80.0",
         "25.34",
         "75.0",
         "70.0",
         "0"
        ],
        [
         "3",
         "0",
         "61",
         "3.0",
         "1",
         "30.0",
         "0.0",
         "0",
         "1",
         "0",
         "225.0",
         "150.0",
         "95.0",
         "28.58",
         "65.0",
         "103.0",
         "1"
        ],
        [
         "4",
         "0",
         "46",
         "3.0",
         "1",
         "23.0",
         "0.0",
         "0",
         "0",
         "0",
         "285.0",
         "130.0",
         "84.0",
         "23.1",
         "85.0",
         "85.0",
         "0"
        ]
       ],
       "shape": {
        "columns": 16,
        "rows": 5
       }
      },
      "text/html": [
       "<div>\n",
       "<style scoped>\n",
       "    .dataframe tbody tr th:only-of-type {\n",
       "        vertical-align: middle;\n",
       "    }\n",
       "\n",
       "    .dataframe tbody tr th {\n",
       "        vertical-align: top;\n",
       "    }\n",
       "\n",
       "    .dataframe thead th {\n",
       "        text-align: right;\n",
       "    }\n",
       "</style>\n",
       "<table border=\"1\" class=\"dataframe\">\n",
       "  <thead>\n",
       "    <tr style=\"text-align: right;\">\n",
       "      <th></th>\n",
       "      <th>male</th>\n",
       "      <th>age</th>\n",
       "      <th>education</th>\n",
       "      <th>currentSmoker</th>\n",
       "      <th>cigsPerDay</th>\n",
       "      <th>BPMeds</th>\n",
       "      <th>prevalentStroke</th>\n",
       "      <th>prevalentHyp</th>\n",
       "      <th>diabetes</th>\n",
       "      <th>totChol</th>\n",
       "      <th>sysBP</th>\n",
       "      <th>diaBP</th>\n",
       "      <th>BMI</th>\n",
       "      <th>heartRate</th>\n",
       "      <th>glucose</th>\n",
       "      <th>TenYearCHD</th>\n",
       "    </tr>\n",
       "  </thead>\n",
       "  <tbody>\n",
       "    <tr>\n",
       "      <th>0</th>\n",
       "      <td>1</td>\n",
       "      <td>39</td>\n",
       "      <td>4.0</td>\n",
       "      <td>0</td>\n",
       "      <td>0.0</td>\n",
       "      <td>0.0</td>\n",
       "      <td>0</td>\n",
       "      <td>0</td>\n",
       "      <td>0</td>\n",
       "      <td>195.0</td>\n",
       "      <td>106.0</td>\n",
       "      <td>70.0</td>\n",
       "      <td>26.97</td>\n",
       "      <td>80.0</td>\n",
       "      <td>77.0</td>\n",
       "      <td>0</td>\n",
       "    </tr>\n",
       "    <tr>\n",
       "      <th>1</th>\n",
       "      <td>0</td>\n",
       "      <td>46</td>\n",
       "      <td>2.0</td>\n",
       "      <td>0</td>\n",
       "      <td>0.0</td>\n",
       "      <td>0.0</td>\n",
       "      <td>0</td>\n",
       "      <td>0</td>\n",
       "      <td>0</td>\n",
       "      <td>250.0</td>\n",
       "      <td>121.0</td>\n",
       "      <td>81.0</td>\n",
       "      <td>28.73</td>\n",
       "      <td>95.0</td>\n",
       "      <td>76.0</td>\n",
       "      <td>0</td>\n",
       "    </tr>\n",
       "    <tr>\n",
       "      <th>2</th>\n",
       "      <td>1</td>\n",
       "      <td>48</td>\n",
       "      <td>1.0</td>\n",
       "      <td>1</td>\n",
       "      <td>20.0</td>\n",
       "      <td>0.0</td>\n",
       "      <td>0</td>\n",
       "      <td>0</td>\n",
       "      <td>0</td>\n",
       "      <td>245.0</td>\n",
       "      <td>127.5</td>\n",
       "      <td>80.0</td>\n",
       "      <td>25.34</td>\n",
       "      <td>75.0</td>\n",
       "      <td>70.0</td>\n",
       "      <td>0</td>\n",
       "    </tr>\n",
       "    <tr>\n",
       "      <th>3</th>\n",
       "      <td>0</td>\n",
       "      <td>61</td>\n",
       "      <td>3.0</td>\n",
       "      <td>1</td>\n",
       "      <td>30.0</td>\n",
       "      <td>0.0</td>\n",
       "      <td>0</td>\n",
       "      <td>1</td>\n",
       "      <td>0</td>\n",
       "      <td>225.0</td>\n",
       "      <td>150.0</td>\n",
       "      <td>95.0</td>\n",
       "      <td>28.58</td>\n",
       "      <td>65.0</td>\n",
       "      <td>103.0</td>\n",
       "      <td>1</td>\n",
       "    </tr>\n",
       "    <tr>\n",
       "      <th>4</th>\n",
       "      <td>0</td>\n",
       "      <td>46</td>\n",
       "      <td>3.0</td>\n",
       "      <td>1</td>\n",
       "      <td>23.0</td>\n",
       "      <td>0.0</td>\n",
       "      <td>0</td>\n",
       "      <td>0</td>\n",
       "      <td>0</td>\n",
       "      <td>285.0</td>\n",
       "      <td>130.0</td>\n",
       "      <td>84.0</td>\n",
       "      <td>23.10</td>\n",
       "      <td>85.0</td>\n",
       "      <td>85.0</td>\n",
       "      <td>0</td>\n",
       "    </tr>\n",
       "  </tbody>\n",
       "</table>\n",
       "</div>"
      ],
      "text/plain": [
       "   male  age  education  currentSmoker  cigsPerDay  BPMeds  prevalentStroke  \\\n",
       "0     1   39        4.0              0         0.0     0.0                0   \n",
       "1     0   46        2.0              0         0.0     0.0                0   \n",
       "2     1   48        1.0              1        20.0     0.0                0   \n",
       "3     0   61        3.0              1        30.0     0.0                0   \n",
       "4     0   46        3.0              1        23.0     0.0                0   \n",
       "\n",
       "   prevalentHyp  diabetes  totChol  sysBP  diaBP    BMI  heartRate  glucose  \\\n",
       "0             0         0    195.0  106.0   70.0  26.97       80.0     77.0   \n",
       "1             0         0    250.0  121.0   81.0  28.73       95.0     76.0   \n",
       "2             0         0    245.0  127.5   80.0  25.34       75.0     70.0   \n",
       "3             1         0    225.0  150.0   95.0  28.58       65.0    103.0   \n",
       "4             0         0    285.0  130.0   84.0  23.10       85.0     85.0   \n",
       "\n",
       "   TenYearCHD  \n",
       "0           0  \n",
       "1           0  \n",
       "2           0  \n",
       "3           1  \n",
       "4           0  "
      ]
     },
     "execution_count": 77,
     "metadata": {},
     "output_type": "execute_result"
    }
   ],
   "source": [
    "# Load the CSV file into a DataFrame\n",
    "data = pd.read_csv('framingham_heart_study.csv')\n",
    "\n",
    "# Preview the DataFrame\n",
    "data.head()\n"
   ]
  },
  {
   "cell_type": "code",
   "execution_count": 78,
   "id": "b5033159",
   "metadata": {},
   "outputs": [
    {
     "data": {
      "text/plain": [
       "Index(['male', 'age', 'education', 'currentSmoker', 'cigsPerDay', 'BPMeds',\n",
       "       'prevalentStroke', 'prevalentHyp', 'diabetes', 'totChol', 'sysBP',\n",
       "       'diaBP', 'BMI', 'heartRate', 'glucose', 'TenYearCHD'],\n",
       "      dtype='object')"
      ]
     },
     "execution_count": 78,
     "metadata": {},
     "output_type": "execute_result"
    }
   ],
   "source": [
    "# You can also use the pandas library to get a an idea of the data you are working with.\n",
    "\n",
    "# Get column names\n",
    "data.columns\n",
    "\n"
   ]
  },
  {
   "cell_type": "code",
   "execution_count": 79,
   "id": "5387566e",
   "metadata": {},
   "outputs": [
    {
     "data": {
      "application/vnd.microsoft.datawrangler.viewer.v0+json": {
       "columns": [
        {
         "name": "index",
         "rawType": "object",
         "type": "string"
        },
        {
         "name": "male",
         "rawType": "float64",
         "type": "float"
        },
        {
         "name": "age",
         "rawType": "float64",
         "type": "float"
        },
        {
         "name": "education",
         "rawType": "float64",
         "type": "float"
        },
        {
         "name": "currentSmoker",
         "rawType": "float64",
         "type": "float"
        },
        {
         "name": "cigsPerDay",
         "rawType": "float64",
         "type": "float"
        },
        {
         "name": "BPMeds",
         "rawType": "float64",
         "type": "float"
        },
        {
         "name": "prevalentStroke",
         "rawType": "float64",
         "type": "float"
        },
        {
         "name": "prevalentHyp",
         "rawType": "float64",
         "type": "float"
        },
        {
         "name": "diabetes",
         "rawType": "float64",
         "type": "float"
        },
        {
         "name": "totChol",
         "rawType": "float64",
         "type": "float"
        },
        {
         "name": "sysBP",
         "rawType": "float64",
         "type": "float"
        },
        {
         "name": "diaBP",
         "rawType": "float64",
         "type": "float"
        },
        {
         "name": "BMI",
         "rawType": "float64",
         "type": "float"
        },
        {
         "name": "heartRate",
         "rawType": "float64",
         "type": "float"
        },
        {
         "name": "glucose",
         "rawType": "float64",
         "type": "float"
        },
        {
         "name": "TenYearCHD",
         "rawType": "float64",
         "type": "float"
        }
       ],
       "ref": "67d7b0b3-063c-453b-a9ac-485535392d46",
       "rows": [
        [
         "count",
         "4240.0",
         "4240.0",
         "4135.0",
         "4240.0",
         "4211.0",
         "4187.0",
         "4240.0",
         "4240.0",
         "4240.0",
         "4190.0",
         "4240.0",
         "4240.0",
         "4221.0",
         "4239.0",
         "3852.0",
         "4240.0"
        ],
        [
         "mean",
         "0.42924528301886794",
         "49.58018867924528",
         "1.9794437726723095",
         "0.49410377358490565",
         "9.005936832106388",
         "0.029615476474802963",
         "0.00589622641509434",
         "0.3106132075471698",
         "0.025707547169811322",
         "236.69952267303103",
         "132.35459905660377",
         "82.89775943396226",
         "25.80080075811419",
         "75.87898089171975",
         "81.96365524402907",
         "0.15188679245283018"
        ],
        [
         "std",
         "0.4950268328135282",
         "8.57294217547334",
         "1.0197911793650105",
         "0.5000242019006145",
         "11.922461800609083",
         "0.16954428739626196",
         "0.0765692084019818",
         "0.4627992628992856",
         "0.15828006133169917",
         "44.59128386860701",
         "22.033299608849184",
         "11.91039448330595",
         "4.079840168944382",
         "12.025347984469386",
         "23.954334811344744",
         "0.35895345563483705"
        ],
        [
         "min",
         "0.0",
         "32.0",
         "1.0",
         "0.0",
         "0.0",
         "0.0",
         "0.0",
         "0.0",
         "0.0",
         "107.0",
         "83.5",
         "48.0",
         "15.54",
         "44.0",
         "40.0",
         "0.0"
        ],
        [
         "25%",
         "0.0",
         "42.0",
         "1.0",
         "0.0",
         "0.0",
         "0.0",
         "0.0",
         "0.0",
         "0.0",
         "206.0",
         "117.0",
         "75.0",
         "23.07",
         "68.0",
         "71.0",
         "0.0"
        ],
        [
         "50%",
         "0.0",
         "49.0",
         "2.0",
         "0.0",
         "0.0",
         "0.0",
         "0.0",
         "0.0",
         "0.0",
         "234.0",
         "128.0",
         "82.0",
         "25.4",
         "75.0",
         "78.0",
         "0.0"
        ],
        [
         "75%",
         "1.0",
         "56.0",
         "3.0",
         "1.0",
         "20.0",
         "0.0",
         "0.0",
         "1.0",
         "0.0",
         "263.0",
         "144.0",
         "90.0",
         "28.04",
         "83.0",
         "87.0",
         "0.0"
        ],
        [
         "max",
         "1.0",
         "70.0",
         "4.0",
         "1.0",
         "70.0",
         "1.0",
         "1.0",
         "1.0",
         "1.0",
         "696.0",
         "295.0",
         "142.5",
         "56.8",
         "143.0",
         "394.0",
         "1.0"
        ]
       ],
       "shape": {
        "columns": 16,
        "rows": 8
       }
      },
      "text/html": [
       "<div>\n",
       "<style scoped>\n",
       "    .dataframe tbody tr th:only-of-type {\n",
       "        vertical-align: middle;\n",
       "    }\n",
       "\n",
       "    .dataframe tbody tr th {\n",
       "        vertical-align: top;\n",
       "    }\n",
       "\n",
       "    .dataframe thead th {\n",
       "        text-align: right;\n",
       "    }\n",
       "</style>\n",
       "<table border=\"1\" class=\"dataframe\">\n",
       "  <thead>\n",
       "    <tr style=\"text-align: right;\">\n",
       "      <th></th>\n",
       "      <th>male</th>\n",
       "      <th>age</th>\n",
       "      <th>education</th>\n",
       "      <th>currentSmoker</th>\n",
       "      <th>cigsPerDay</th>\n",
       "      <th>BPMeds</th>\n",
       "      <th>prevalentStroke</th>\n",
       "      <th>prevalentHyp</th>\n",
       "      <th>diabetes</th>\n",
       "      <th>totChol</th>\n",
       "      <th>sysBP</th>\n",
       "      <th>diaBP</th>\n",
       "      <th>BMI</th>\n",
       "      <th>heartRate</th>\n",
       "      <th>glucose</th>\n",
       "      <th>TenYearCHD</th>\n",
       "    </tr>\n",
       "  </thead>\n",
       "  <tbody>\n",
       "    <tr>\n",
       "      <th>count</th>\n",
       "      <td>4240.000000</td>\n",
       "      <td>4240.000000</td>\n",
       "      <td>4135.000000</td>\n",
       "      <td>4240.000000</td>\n",
       "      <td>4211.000000</td>\n",
       "      <td>4187.000000</td>\n",
       "      <td>4240.000000</td>\n",
       "      <td>4240.000000</td>\n",
       "      <td>4240.000000</td>\n",
       "      <td>4190.000000</td>\n",
       "      <td>4240.000000</td>\n",
       "      <td>4240.000000</td>\n",
       "      <td>4221.000000</td>\n",
       "      <td>4239.000000</td>\n",
       "      <td>3852.000000</td>\n",
       "      <td>4240.000000</td>\n",
       "    </tr>\n",
       "    <tr>\n",
       "      <th>mean</th>\n",
       "      <td>0.429245</td>\n",
       "      <td>49.580189</td>\n",
       "      <td>1.979444</td>\n",
       "      <td>0.494104</td>\n",
       "      <td>9.005937</td>\n",
       "      <td>0.029615</td>\n",
       "      <td>0.005896</td>\n",
       "      <td>0.310613</td>\n",
       "      <td>0.025708</td>\n",
       "      <td>236.699523</td>\n",
       "      <td>132.354599</td>\n",
       "      <td>82.897759</td>\n",
       "      <td>25.800801</td>\n",
       "      <td>75.878981</td>\n",
       "      <td>81.963655</td>\n",
       "      <td>0.151887</td>\n",
       "    </tr>\n",
       "    <tr>\n",
       "      <th>std</th>\n",
       "      <td>0.495027</td>\n",
       "      <td>8.572942</td>\n",
       "      <td>1.019791</td>\n",
       "      <td>0.500024</td>\n",
       "      <td>11.922462</td>\n",
       "      <td>0.169544</td>\n",
       "      <td>0.076569</td>\n",
       "      <td>0.462799</td>\n",
       "      <td>0.158280</td>\n",
       "      <td>44.591284</td>\n",
       "      <td>22.033300</td>\n",
       "      <td>11.910394</td>\n",
       "      <td>4.079840</td>\n",
       "      <td>12.025348</td>\n",
       "      <td>23.954335</td>\n",
       "      <td>0.358953</td>\n",
       "    </tr>\n",
       "    <tr>\n",
       "      <th>min</th>\n",
       "      <td>0.000000</td>\n",
       "      <td>32.000000</td>\n",
       "      <td>1.000000</td>\n",
       "      <td>0.000000</td>\n",
       "      <td>0.000000</td>\n",
       "      <td>0.000000</td>\n",
       "      <td>0.000000</td>\n",
       "      <td>0.000000</td>\n",
       "      <td>0.000000</td>\n",
       "      <td>107.000000</td>\n",
       "      <td>83.500000</td>\n",
       "      <td>48.000000</td>\n",
       "      <td>15.540000</td>\n",
       "      <td>44.000000</td>\n",
       "      <td>40.000000</td>\n",
       "      <td>0.000000</td>\n",
       "    </tr>\n",
       "    <tr>\n",
       "      <th>25%</th>\n",
       "      <td>0.000000</td>\n",
       "      <td>42.000000</td>\n",
       "      <td>1.000000</td>\n",
       "      <td>0.000000</td>\n",
       "      <td>0.000000</td>\n",
       "      <td>0.000000</td>\n",
       "      <td>0.000000</td>\n",
       "      <td>0.000000</td>\n",
       "      <td>0.000000</td>\n",
       "      <td>206.000000</td>\n",
       "      <td>117.000000</td>\n",
       "      <td>75.000000</td>\n",
       "      <td>23.070000</td>\n",
       "      <td>68.000000</td>\n",
       "      <td>71.000000</td>\n",
       "      <td>0.000000</td>\n",
       "    </tr>\n",
       "    <tr>\n",
       "      <th>50%</th>\n",
       "      <td>0.000000</td>\n",
       "      <td>49.000000</td>\n",
       "      <td>2.000000</td>\n",
       "      <td>0.000000</td>\n",
       "      <td>0.000000</td>\n",
       "      <td>0.000000</td>\n",
       "      <td>0.000000</td>\n",
       "      <td>0.000000</td>\n",
       "      <td>0.000000</td>\n",
       "      <td>234.000000</td>\n",
       "      <td>128.000000</td>\n",
       "      <td>82.000000</td>\n",
       "      <td>25.400000</td>\n",
       "      <td>75.000000</td>\n",
       "      <td>78.000000</td>\n",
       "      <td>0.000000</td>\n",
       "    </tr>\n",
       "    <tr>\n",
       "      <th>75%</th>\n",
       "      <td>1.000000</td>\n",
       "      <td>56.000000</td>\n",
       "      <td>3.000000</td>\n",
       "      <td>1.000000</td>\n",
       "      <td>20.000000</td>\n",
       "      <td>0.000000</td>\n",
       "      <td>0.000000</td>\n",
       "      <td>1.000000</td>\n",
       "      <td>0.000000</td>\n",
       "      <td>263.000000</td>\n",
       "      <td>144.000000</td>\n",
       "      <td>90.000000</td>\n",
       "      <td>28.040000</td>\n",
       "      <td>83.000000</td>\n",
       "      <td>87.000000</td>\n",
       "      <td>0.000000</td>\n",
       "    </tr>\n",
       "    <tr>\n",
       "      <th>max</th>\n",
       "      <td>1.000000</td>\n",
       "      <td>70.000000</td>\n",
       "      <td>4.000000</td>\n",
       "      <td>1.000000</td>\n",
       "      <td>70.000000</td>\n",
       "      <td>1.000000</td>\n",
       "      <td>1.000000</td>\n",
       "      <td>1.000000</td>\n",
       "      <td>1.000000</td>\n",
       "      <td>696.000000</td>\n",
       "      <td>295.000000</td>\n",
       "      <td>142.500000</td>\n",
       "      <td>56.800000</td>\n",
       "      <td>143.000000</td>\n",
       "      <td>394.000000</td>\n",
       "      <td>1.000000</td>\n",
       "    </tr>\n",
       "  </tbody>\n",
       "</table>\n",
       "</div>"
      ],
      "text/plain": [
       "              male          age    education  currentSmoker   cigsPerDay  \\\n",
       "count  4240.000000  4240.000000  4135.000000    4240.000000  4211.000000   \n",
       "mean      0.429245    49.580189     1.979444       0.494104     9.005937   \n",
       "std       0.495027     8.572942     1.019791       0.500024    11.922462   \n",
       "min       0.000000    32.000000     1.000000       0.000000     0.000000   \n",
       "25%       0.000000    42.000000     1.000000       0.000000     0.000000   \n",
       "50%       0.000000    49.000000     2.000000       0.000000     0.000000   \n",
       "75%       1.000000    56.000000     3.000000       1.000000    20.000000   \n",
       "max       1.000000    70.000000     4.000000       1.000000    70.000000   \n",
       "\n",
       "            BPMeds  prevalentStroke  prevalentHyp     diabetes      totChol  \\\n",
       "count  4187.000000      4240.000000   4240.000000  4240.000000  4190.000000   \n",
       "mean      0.029615         0.005896      0.310613     0.025708   236.699523   \n",
       "std       0.169544         0.076569      0.462799     0.158280    44.591284   \n",
       "min       0.000000         0.000000      0.000000     0.000000   107.000000   \n",
       "25%       0.000000         0.000000      0.000000     0.000000   206.000000   \n",
       "50%       0.000000         0.000000      0.000000     0.000000   234.000000   \n",
       "75%       0.000000         0.000000      1.000000     0.000000   263.000000   \n",
       "max       1.000000         1.000000      1.000000     1.000000   696.000000   \n",
       "\n",
       "             sysBP        diaBP          BMI    heartRate      glucose  \\\n",
       "count  4240.000000  4240.000000  4221.000000  4239.000000  3852.000000   \n",
       "mean    132.354599    82.897759    25.800801    75.878981    81.963655   \n",
       "std      22.033300    11.910394     4.079840    12.025348    23.954335   \n",
       "min      83.500000    48.000000    15.540000    44.000000    40.000000   \n",
       "25%     117.000000    75.000000    23.070000    68.000000    71.000000   \n",
       "50%     128.000000    82.000000    25.400000    75.000000    78.000000   \n",
       "75%     144.000000    90.000000    28.040000    83.000000    87.000000   \n",
       "max     295.000000   142.500000    56.800000   143.000000   394.000000   \n",
       "\n",
       "        TenYearCHD  \n",
       "count  4240.000000  \n",
       "mean      0.151887  \n",
       "std       0.358953  \n",
       "min       0.000000  \n",
       "25%       0.000000  \n",
       "50%       0.000000  \n",
       "75%       0.000000  \n",
       "max       1.000000  "
      ]
     },
     "execution_count": 79,
     "metadata": {},
     "output_type": "execute_result"
    }
   ],
   "source": [
    "# Get a summary of the DataFrame\n",
    "data.describe()\n"
   ]
  },
  {
   "cell_type": "code",
   "execution_count": 80,
   "id": "d18ff9fe",
   "metadata": {},
   "outputs": [
    {
     "data": {
      "application/vnd.microsoft.datawrangler.viewer.v0+json": {
       "columns": [
        {
         "name": "index",
         "rawType": "object",
         "type": "string"
        },
        {
         "name": "0",
         "rawType": "int64",
         "type": "integer"
        }
       ],
       "ref": "2e40a522-e84e-4b1c-aa58-3cc42cca5e21",
       "rows": [
        [
         "male",
         "0"
        ],
        [
         "age",
         "0"
        ],
        [
         "education",
         "105"
        ],
        [
         "currentSmoker",
         "0"
        ],
        [
         "cigsPerDay",
         "29"
        ],
        [
         "BPMeds",
         "53"
        ],
        [
         "prevalentStroke",
         "0"
        ],
        [
         "prevalentHyp",
         "0"
        ],
        [
         "diabetes",
         "0"
        ],
        [
         "totChol",
         "50"
        ],
        [
         "sysBP",
         "0"
        ],
        [
         "diaBP",
         "0"
        ],
        [
         "BMI",
         "19"
        ],
        [
         "heartRate",
         "1"
        ],
        [
         "glucose",
         "388"
        ],
        [
         "TenYearCHD",
         "0"
        ]
       ],
       "shape": {
        "columns": 1,
        "rows": 16
       }
      },
      "text/plain": [
       "male                 0\n",
       "age                  0\n",
       "education          105\n",
       "currentSmoker        0\n",
       "cigsPerDay          29\n",
       "BPMeds              53\n",
       "prevalentStroke      0\n",
       "prevalentHyp         0\n",
       "diabetes             0\n",
       "totChol             50\n",
       "sysBP                0\n",
       "diaBP                0\n",
       "BMI                 19\n",
       "heartRate            1\n",
       "glucose            388\n",
       "TenYearCHD           0\n",
       "dtype: int64"
      ]
     },
     "execution_count": 80,
     "metadata": {},
     "output_type": "execute_result"
    }
   ],
   "source": [
    "# Preview all the null values in the DataFrame\n",
    "data.isnull().sum()\n"
   ]
  },
  {
   "cell_type": "code",
   "execution_count": 81,
   "id": "f643f173",
   "metadata": {},
   "outputs": [
    {
     "data": {
      "text/plain": [
       "np.int64(0)"
      ]
     },
     "execution_count": 81,
     "metadata": {},
     "output_type": "execute_result"
    }
   ],
   "source": [
    "# Preview counts of duplicate rows\n",
    "data.duplicated().sum()\n"
   ]
  },
  {
   "cell_type": "code",
   "execution_count": 82,
   "id": "ec0d9166",
   "metadata": {},
   "outputs": [
    {
     "data": {
      "text/plain": [
       "(4240, 16)"
      ]
     },
     "execution_count": 82,
     "metadata": {},
     "output_type": "execute_result"
    }
   ],
   "source": [
    "# Preview the data shape: rows and columns\n",
    "data.shape\n"
   ]
  },
  {
   "cell_type": "code",
   "execution_count": 83,
   "id": "6e04dbdc",
   "metadata": {},
   "outputs": [
    {
     "data": {
      "text/plain": [
       "Index(['is_male', 'age', 'education', 'is_current_smoker',\n",
       "       'cigarettes_per_day', 'is_on_blood_pressure_meds',\n",
       "       'has_prevalent_stroke', 'has_prevalent_hypertension', 'has_diabetes',\n",
       "       'total_cholesterol', 'systolic_blood_pressure',\n",
       "       'diastolic_blood_pressure', 'body_mass_index', 'heart_rate',\n",
       "       'glucose_level', 'has_ten_year_chd'],\n",
       "      dtype='object')"
      ]
     },
     "execution_count": 83,
     "metadata": {},
     "output_type": "execute_result"
    }
   ],
   "source": [
    "# Data Cleaning\n",
    "# We can rename some columns to make them more readable.\n",
    "data.rename(columns={\n",
    "    'male': 'is_male',\n",
    "    'currentSmoker': 'is_current_smoker',\n",
    "    'cigsPerDay': 'cigarettes_per_day',\n",
    "    'BPMeds': 'is_on_blood_pressure_meds',\n",
    "    'prevalentStroke': 'has_prevalent_stroke',\n",
    "    'prevalentHyp': 'has_prevalent_hypertension',\n",
    "    'diabetes': 'has_diabetes',\n",
    "    'totChol': 'total_cholesterol',\n",
    "    'sysBP': 'systolic_blood_pressure',\n",
    "    'diaBP': 'diastolic_blood_pressure',\n",
    "    'BMI': 'body_mass_index',\n",
    "    'heartRate': 'heart_rate',\n",
    "    'glucose': 'glucose_level',\n",
    "    'TenYearCHD': 'has_ten_year_chd'\n",
    "}, inplace=True)\n",
    "\n",
    "# Preview the renamed columns\n",
    "data.columns\n"
   ]
  },
  {
   "cell_type": "code",
   "execution_count": 84,
   "id": "4661d015",
   "metadata": {},
   "outputs": [
    {
     "data": {
      "application/vnd.microsoft.datawrangler.viewer.v0+json": {
       "columns": [
        {
         "name": "index",
         "rawType": "object",
         "type": "string"
        },
        {
         "name": "0",
         "rawType": "int64",
         "type": "integer"
        }
       ],
       "ref": "ff8cb16e-1861-4f34-8f9f-96c7833a529f",
       "rows": [
        [
         "is_male",
         "0"
        ],
        [
         "age",
         "0"
        ],
        [
         "education",
         "0"
        ],
        [
         "is_current_smoker",
         "0"
        ],
        [
         "cigarettes_per_day",
         "0"
        ],
        [
         "is_on_blood_pressure_meds",
         "0"
        ],
        [
         "has_prevalent_stroke",
         "0"
        ],
        [
         "has_prevalent_hypertension",
         "0"
        ],
        [
         "has_diabetes",
         "0"
        ],
        [
         "total_cholesterol",
         "0"
        ],
        [
         "systolic_blood_pressure",
         "0"
        ],
        [
         "diastolic_blood_pressure",
         "0"
        ],
        [
         "body_mass_index",
         "0"
        ],
        [
         "heart_rate",
         "0"
        ],
        [
         "glucose_level",
         "0"
        ],
        [
         "has_ten_year_chd",
         "0"
        ]
       ],
       "shape": {
        "columns": 1,
        "rows": 16
       }
      },
      "text/plain": [
       "is_male                       0\n",
       "age                           0\n",
       "education                     0\n",
       "is_current_smoker             0\n",
       "cigarettes_per_day            0\n",
       "is_on_blood_pressure_meds     0\n",
       "has_prevalent_stroke          0\n",
       "has_prevalent_hypertension    0\n",
       "has_diabetes                  0\n",
       "total_cholesterol             0\n",
       "systolic_blood_pressure       0\n",
       "diastolic_blood_pressure      0\n",
       "body_mass_index               0\n",
       "heart_rate                    0\n",
       "glucose_level                 0\n",
       "has_ten_year_chd              0\n",
       "dtype: int64"
      ]
     },
     "execution_count": 84,
     "metadata": {},
     "output_type": "execute_result"
    }
   ],
   "source": [
    "# Drop records with null values\n",
    "data.dropna(inplace=True)\n",
    "\n",
    "# Verify that there are no more null values\n",
    "data.isnull().sum()\n"
   ]
  },
  {
   "cell_type": "code",
   "execution_count": 85,
   "id": "c23411b1",
   "metadata": {},
   "outputs": [],
   "source": [
    "# Data visualization\n",
    "import matplotlib.pyplot as plt\n",
    "import seaborn as sns\n"
   ]
  },
  {
   "cell_type": "code",
   "execution_count": 86,
   "id": "cec90cf6",
   "metadata": {},
   "outputs": [
    {
     "data": {
      "image/png": "[encoded data removed]",
      "text/plain": [
       "<Figure size 1200x1000 with 2 Axes>"
      ]
     },
     "metadata": {},
     "output_type": "display_data"
    }
   ],
   "source": [
    "# Correlation heatmap\n",
    "plt.figure(figsize=(12, 10))\n",
    "\n",
    "# Calculate the correlation matrix\n",
    "correlation_matrix = data.corr()\n",
    "\n",
    "# Create a heatmap using seaborn\n",
    "sns.heatmap(correlation_matrix, annot=True, fmt=\".2f\", cmap='coolwarm', square=True, cbar_kws={\"shrink\": .8})\n",
    "\n",
    "plt.title('Correlation Heatmap of Framingham Heart Study Data')\n",
    "\n",
    "# display the plot\n",
    "plt.show()\n"
   ]
  }
 ],
 "metadata": {
  "kernelspec": {
   "display_name": ".venv",
   "language": "python",
   "name": "python3"
  },
  "language_info": {
   "codemirror_mode": {
    "name": "ipython",
    "version": 3
   },
   "file_extension": ".py",
   "mimetype": "text/x-python",
   "name": "python",
   "nbconvert_exporter": "python",
   "pygments_lexer": "ipython3",
   "version": "3.12.5"
  }
 },
 "nbformat": 4,
 "nbformat_minor": 5
}
